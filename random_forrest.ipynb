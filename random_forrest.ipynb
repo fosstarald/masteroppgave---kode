{
 "cells": [
  {
   "cell_type": "code",
   "execution_count": 43,
   "metadata": {},
   "outputs": [],
   "source": [
    "import pandas as pd\n",
    "import matplotlib.pyplot as plt\n",
    "import seaborn as sns\n",
    "import numpy as np\n",
    "from sklearn.preprocessing import LabelEncoder, PowerTransformer\n",
    "from sklearn.ensemble import RandomForestRegressor\n",
    "from sklearn.model_selection import train_test_split, RandomizedSearchCV, cross_val_score, KFold\n",
    "from sklearn.metrics import mean_squared_error, mean_absolute_error, r2_score\n",
    "from scipy.stats import randint\n",
    "import shap\n",
    "import time"
   ]
  },
  {
   "cell_type": "markdown",
   "metadata": {},
   "source": [
    "### Last inn data"
   ]
  },
  {
   "cell_type": "code",
   "execution_count": 44,
   "metadata": {},
   "outputs": [],
   "source": [
    "# Last inn data\n",
    "data = pd.read_csv('Data/data_grouped.csv')\n",
    "# lag nye navn fra-sone-6 og til-sone-6 til fra-sone og til-sone\n",
    "data = data.rename(columns={'fra-sone-6': 'fra-sone', 'til-sone-6': 'til-sone', 'fri_hen_priv': 'fritid'})\n",
    "# Lag en hjelpe-tabell med unike soner og befolkning\n",
    "pop_lookup = data[['fra-sone', 'befolkning']].drop_duplicates()\n",
    "pop_lookup.columns = ['sone', 'til_befolkning']\n",
    "\n",
    "# Slå opp befolkning for to_zone basert på from_zone-informasjon\n",
    "df = data.merge(pop_lookup, left_on='til-sone', right_on='sone', how='left')\n",
    "df = df.drop(columns='sone')\n",
    "\n",
    "data = df\n"
   ]
  },
  {
   "cell_type": "markdown",
   "metadata": {},
   "source": [
    "\n",
    "\n",
    "\n",
    "I den neste delen modellers en random forrest modell mer man også finner Hyper parameters"
   ]
  },
  {
   "cell_type": "markdown",
   "metadata": {},
   "source": [
    "### Forebered data"
   ]
  },
  {
   "cell_type": "code",
   "execution_count": 45,
   "metadata": {},
   "outputs": [],
   "source": [
    "# Kopier datasettet\n",
    "rf_data = data.copy()\n",
    "\n",
    "# Konverter `fra-sone`, `til-sone` og `tid` til numeriske verdier med LabelEncoder\n",
    "label_encoder_fra = LabelEncoder()\n",
    "rf_data['fra-sone-encoded'] = label_encoder_fra.fit_transform(rf_data['fra-sone'])\n",
    "\n",
    "label_encoder_til = LabelEncoder()\n",
    "rf_data['til-sone-encoded'] = label_encoder_til.fit_transform(rf_data['til-sone'])\n",
    "\n",
    "label_encoder_tid = LabelEncoder()\n",
    "rf_data['tid-encoded'] = label_encoder_tid.fit_transform(rf_data['tid'])\n",
    "\n",
    "\n",
    "X_1 = rf_data[['fra-sone-encoded', 'til-sone-encoded', 'tid-encoded', 'befolkning', 'til_befolkning', 'arbeidsplasser', 'handel', 'fritid', 'distanse']]\n",
    "# Definer input- og output-variabler\n",
    "X = X_1.values\n",
    "\n",
    "y = rf_data['reiser'].values  # Ingen log-transformasjon!\n",
    "pt_y = PowerTransformer()\n",
    "y_trans = pt_y.fit_transform(y.reshape(-1, 1)).ravel()  # PowerTransformer\n",
    "y_log = np.log1p(y)  # Log-transformasjon av y for å håndtere skjevfordeling\n",
    "\n",
    "# Split data i trening og testsett\n",
    "X_train, X_test, y_train, y_test = train_test_split(X, y, test_size=0.2, random_state=42) # bruk y_log og y_trans ved ønske\n",
    "\n",
    "# Sett sammen et fullstendig testsett med X_test og y_test\n",
    "feature_names = X_1.columns.tolist()\n",
    "# Lag DataFrame for X_test\n",
    "X_test_df = pd.DataFrame(X_test, columns=feature_names)\n",
    "y_test_df = pd.DataFrame(y_test, columns=['reiser']) \n",
    "# Sett sammen X_test og y_test\n",
    "t_set = pd.concat([X_test_df.reset_index(drop=True), y_test_df.reset_index(drop=True)], axis=1)\n"
   ]
  },
  {
   "cell_type": "markdown",
   "metadata": {},
   "source": [
    "### Fordeling av tranformerte y-verdier"
   ]
  },
  {
   "cell_type": "code",
   "execution_count": null,
   "metadata": {},
   "outputs": [],
   "source": [
    "plt.figure(figsize=(8, 5))\n",
    "sns.histplot(y_trans, bins=50, kde=True)\n",
    "plt.title(\"Fordeling av y etter PowerTransformer\")\n",
    "plt.xlabel(\"y_trans (transformert reisevolum)\")\n",
    "plt.ylabel(\"Frekvens\")\n",
    "plt.grid(True)\n",
    "plt.tight_layout()\n",
    "plt.show()\n"
   ]
  },
  {
   "cell_type": "code",
   "execution_count": null,
   "metadata": {},
   "outputs": [],
   "source": [
    "plt.figure(figsize=(8, 5))\n",
    "sns.histplot(y_log, bins=50, kde=True)\n",
    "plt.title(\"Fordeling av y etter log-transformasjon\")\n",
    "plt.xlabel(\"y_log (transformert reisevolum)\")\n",
    "plt.ylabel(\"Frekvens\")\n",
    "plt.grid(True)\n",
    "plt.tight_layout()\n",
    "plt.show()\n"
   ]
  },
  {
   "cell_type": "markdown",
   "metadata": {},
   "source": [
    "### Hyperparametere"
   ]
  },
  {
   "cell_type": "code",
   "execution_count": 345,
   "metadata": {},
   "outputs": [],
   "source": [
    "param_dist = {\n",
    "    'n_estimators': randint(50, 500), \n",
    "    'max_depth': [30, 40, 60, 100],  \n",
    "    'min_samples_split': randint(2, 10),\n",
    "    'min_samples_leaf': randint(1, 5),\n",
    "    'max_features': ['sqrt', 'log2']\n",
    "}\n"
   ]
  },
  {
   "cell_type": "code",
   "execution_count": 346,
   "metadata": {},
   "outputs": [],
   "source": [
    "# Initialiser Randomized Search\n",
    "random_search = RandomizedSearchCV(\n",
    "    estimator=RandomForestRegressor(random_state=42, n_jobs=-1),\n",
    "    param_distributions=param_dist,\n",
    "    n_iter=20,  # Test kun 20 tilfeldige kombinasjoner (reduserer tid)\n",
    "    cv=3,  # Kjør 3-fold cross-validation\n",
    "    scoring='neg_mean_squared_error',\n",
    "    verbose=2,\n",
    "    random_state=42,\n",
    "    n_jobs=-1\n",
    ")"
   ]
  },
  {
   "cell_type": "code",
   "execution_count": null,
   "metadata": {},
   "outputs": [],
   "source": [
    "random_search.fit(X_train, y_train)"
   ]
  },
  {
   "cell_type": "code",
   "execution_count": null,
   "metadata": {},
   "outputs": [],
   "source": [
    "best_params = random_search.best_params_\n",
    "print(f\"Beste hyperparametere: {best_params}\")"
   ]
  },
  {
   "cell_type": "code",
   "execution_count": 335,
   "metadata": {},
   "outputs": [],
   "source": [
    "best_params = {'max_depth': 30, 'max_features': 'log2', 'min_samples_leaf': 1, 'min_samples_split': 8, 'n_estimators': 156} #vanlig"
   ]
  },
  {
   "cell_type": "code",
   "execution_count": 104,
   "metadata": {},
   "outputs": [],
   "source": [
    "best_params = {'max_depth': 100, 'max_features': 'log2', 'min_samples_leaf': 1, 'min_samples_split': 50, 'n_estimators': 150} # PT"
   ]
  },
  {
   "cell_type": "code",
   "execution_count": 25,
   "metadata": {},
   "outputs": [],
   "source": [
    "best_params = {'max_depth': 100, 'max_features': 'log2', 'min_samples_leaf': 1, 'min_samples_split': 8, 'n_estimators': 451} # log"
   ]
  },
  {
   "cell_type": "markdown",
   "metadata": {},
   "source": [
    "### Modellering"
   ]
  },
  {
   "cell_type": "code",
   "execution_count": null,
   "metadata": {},
   "outputs": [],
   "source": [
    "\n",
    "start = time.time() # ta tiden på trening\n",
    "\n",
    "rf_best = RandomForestRegressor(**best_params, random_state=42, n_jobs=-1)\n",
    "rf_best.fit(X_train, y_train)\n",
    "\n",
    "end = time.time()\n",
    "print(f\"Treningstid: {end - start:.2f} sekunder\")\n",
    "start2 = time.time()\n",
    "\n",
    "y_pred = rf_best.predict(X_test)\n",
    "end2 = time.time()\n",
    "print(f\"Prediksjonstid: {end2 - start2:.2f} sekunder\")\n",
    "print(y_pred.shape)\n",
    "print(y_test.shape)\n",
    "\n",
    "# Ved transformasjon\n",
    "#y_pred = np.expm1(y_pred)\n",
    "#y_test = np.expm1(y_test)\n",
    "#y_pred = pt_y.inverse_transform(y_pred.reshape(-1, 1)).ravel()\n",
    "#y_test = pt_y.inverse_transform(y_test.reshape(-1, 1)).ravel()\n",
    "\n",
    "mse = mean_squared_error(y_test, y_pred)\n",
    "mae = mean_absolute_error(y_test, y_pred)\n",
    "r2 = r2_score(y_test, y_pred)"
   ]
  },
  {
   "cell_type": "markdown",
   "metadata": {},
   "source": [
    "### Resultater"
   ]
  },
  {
   "cell_type": "code",
   "execution_count": null,
   "metadata": {},
   "outputs": [],
   "source": [
    "print(\"\\nModellens ytelse med optimaliserte hyperparametere:\")\n",
    "print(f\"Mean Squared Error (MSE): {mse:.2f}\")\n",
    "print(f\"Mean Absolute Error (MAE): {mae:.2f}\")\n",
    "print(f\"R-squared (R2): {r2:.2f}\")"
   ]
  },
  {
   "cell_type": "code",
   "execution_count": null,
   "metadata": {},
   "outputs": [],
   "source": [
    "# Finn MAPE\n",
    "mape = np.mean(np.abs((y_test - y_pred) / y_test)) * 100\n",
    "print(f\"Mean Absolute Percentage Error (MAPE): {mape:.2f}%\")"
   ]
  },
  {
   "cell_type": "markdown",
   "metadata": {},
   "source": [
    "### Plott fatiske verdier mot predikerte verdier"
   ]
  },
  {
   "cell_type": "code",
   "execution_count": null,
   "metadata": {},
   "outputs": [],
   "source": [
    "# Plot faktisk mot predikert\n",
    "plt.figure(figsize=(10, 6))\n",
    "plt.scatter(y_test, y_pred, alpha=0.5, label='Predicted vs True')\n",
    "plt.plot([min(y_test), max(y_test)], [min(y_test), max(y_test)], '--r', label='Perfect Prediction')\n",
    "plt.xlabel('True Values (y_test)')\n",
    "plt.ylabel('Predicted Values (y_pred)')\n",
    "plt.title('True vs Predicted Values - RF')\n",
    "plt.legend()\n",
    "plt.grid(True)\n",
    "mask = y_test <= 10000\n",
    "filtered_y_test = y_test[mask]\n",
    "filtered_y_pred = y_pred[mask]\n",
    "\n",
    "plt.figure(figsize=(10, 6))\n",
    "plt.scatter(filtered_y_test, filtered_y_pred, alpha=0.5, label='Predicted vs True')\n",
    "plt.plot([min(filtered_y_test), max(filtered_y_test)], [min(filtered_y_test), max(filtered_y_test)], '--r', label='Perfect Prediction')\n",
    "plt.xlabel('True Values (y_test)')\n",
    "plt.ylabel('Predicted Values (y_pred)')\n",
    "plt.title('True vs Predicted Values (Filtered)')\n",
    "plt.legend()\n",
    "plt.grid(True)\n",
    "plt.show()"
   ]
  },
  {
   "cell_type": "code",
   "execution_count": null,
   "metadata": {},
   "outputs": [],
   "source": [
    "# Finne median MAPE\n",
    "errors = abs(y_pred - y_test)\n",
    "# Calculate mean absolute percentage error (MAPE)\n",
    "mape = 100 * (errors / y_test)\n",
    "# Calculate and display accuracy\n",
    "median_mape = np.median(mape)\n",
    "print(f\"Median MAPE: {median_mape:.2f}%\")\n",
    "\n"
   ]
  },
  {
   "cell_type": "markdown",
   "metadata": {},
   "source": [
    "### Sjekk overtilpasning"
   ]
  },
  {
   "cell_type": "code",
   "execution_count": null,
   "metadata": {},
   "outputs": [],
   "source": [
    "# sammenlign resultater med prediksjonser på testsettet med prediksjoner på treningssettet\n",
    "y_train_pred = rf_best.predict(X_train)\n",
    "y_test_pred = rf_best.predict(X_test)\n",
    "\n",
    "mse_train = mean_squared_error(y_train, y_train_pred)\n",
    "mse_test = mean_squared_error(y_test, y_test_pred)\n",
    "\n",
    "mae_train = mean_absolute_error(y_train, y_train_pred)\n",
    "mae_test = mean_absolute_error(y_test, y_test_pred)\n",
    "\n",
    "r2_train = r2_score(y_train, y_train_pred)\n",
    "r2_test = r2_score(y_test, y_test_pred)\n",
    "\n",
    "print(\"\\nModellens ytelse med optimaliserte hyperparametere:\")\n",
    "print(f\"Mean Squared Error (MSE) - Treningssett: {mse_train:.2f}\")\n",
    "print(f\"Mean Squared Error (MSE) - Testsett: {mse_test:.2f}\")\n",
    "print(f\"Mean Absolute Error (MAE) - Treningssett: {mae_train:.2f}\")\n",
    "print(f\"Mean Absolute Error (MAE) - Testsett: {mae_test:.2f}\")\n",
    "print(f\"R-squared (R2) - Treningssett: {r2_train:.2f}\")\n",
    "print(f\"R-squared (R2) - Testsett: {r2_test:.2f}\")\n"
   ]
  },
  {
   "cell_type": "markdown",
   "metadata": {},
   "source": [
    "### Kryssvalidasjon"
   ]
  },
  {
   "cell_type": "code",
   "execution_count": null,
   "metadata": {},
   "outputs": [],
   "source": [
    "\n",
    "\n",
    "kf = KFold(n_splits=5, shuffle=True, random_state=42) # Shuffle og tilfeldig utvalg\n",
    "scores = cross_val_score(rf_best, X, y, cv=kf, scoring='neg_mean_squared_error')\n",
    "\n",
    "\n",
    "mse_scores = -scores\n",
    "\n",
    "print(f\"RMSE scores: {mse_scores}\")\n",
    "print(f\"Mean RMSE: {mse_scores.mean()}\")\n",
    "print(f\"Standard deviation: {mse_scores.std()}\")\n",
    "\n",
    "mape_scores = 100 * np.mean(np.abs((y - rf_best.predict(X)) / y))\n",
    "\n",
    "\n",
    "mae_scores = []\n",
    "r2_scores = []\n",
    "mape_scores = []\n",
    "\n",
    "for train_idx, test_idx in kf.split(X):\n",
    "    X_train_fold, X_test_fold = X[train_idx], X[test_idx]\n",
    "    y_train_fold, y_test_fold = y[train_idx], y[test_idx]\n",
    "    \n",
    "    rf_best.fit(X_train_fold, y_train_fold)\n",
    "    y_pred_fold = rf_best.predict(X_test_fold)\n",
    "    \n",
    "    mae_scores.append(mean_absolute_error(y_test_fold, y_pred_fold))\n",
    "    r2_scores.append(r2_score(y_test_fold, y_pred_fold))\n",
    "    mape_scores.append(np.mean(np.abs((y_test_fold - y_pred_fold) / y_test_fold)) * 100)\n",
    "\n",
    "\n",
    "print(f\"MAE scores: {mae_scores}\")\n",
    "print(f\"Mean MAE: {np.mean(mae_scores):.2f}\")\n",
    "print(f\"Standard deviation MAE: {np.std(mae_scores):.2f}\")\n",
    "\n",
    "print(f\"R2 scores: {r2_scores}\")\n",
    "print(f\"Mean R2: {np.mean(r2_scores):.2f}\")\n",
    "print(f\"Standard deviation R2: {np.std(r2_scores):.2f}\")\n",
    "\n",
    "print(f\"MAPE scores: {mape_scores}\")\n",
    "print(f\"Mean MAPE: {np.mean(mape_scores):.2f}%\")\n",
    "print(f\"Standard deviation MAPE: {np.std(mape_scores):.2f}%\")"
   ]
  },
  {
   "cell_type": "markdown",
   "metadata": {},
   "source": [
    "### Modellusikkerhet"
   ]
  },
  {
   "cell_type": "code",
   "execution_count": null,
   "metadata": {},
   "outputs": [],
   "source": [
    "# Trener 20 modeller, finner usikkerheten\n",
    "\n",
    "n_models = 20\n",
    "seeds = np.random.randint(0, 10000, n_models)\n",
    "\n",
    "all_predictions = []\n",
    "\n",
    "for seed in seeds:\n",
    "    rf = RandomForestRegressor(**best_params, random_state=seed, n_jobs=-1)\n",
    "    rf.fit(X_train, y_train)\n",
    "    y_pred = rf.predict(X_test)\n",
    "    all_predictions.append(y_pred)\n",
    "\n",
    "all_predictions = np.array(all_predictions)\n",
    "\n",
    "# Beregn gjennomsnitt og standardavvik\n",
    "mean_pred = all_predictions.mean(axis=0)\n",
    "std_pred = all_predictions.std(axis=0)\n",
    "rel_std_pred = std_pred / (mean_pred + 1e-6)  # +1e-6 for å unngå deling på null\n",
    "\n",
    "# Eksempel: Vis relativ usikkerhet for de 10 første testprøvene\n",
    "print(\"Relativ standardavvik:\", rel_std_pred[:10])\n",
    "print(\"Gjennomsnittlig prediksjon:\", mean_pred[:10])\n"
   ]
  },
  {
   "cell_type": "code",
   "execution_count": null,
   "metadata": {},
   "outputs": [],
   "source": [
    "mean_std = rel_std_pred.mean()\n",
    "print(f\"Gjennomsnittlig standardavvik: {mean_std:.2f}\")\n",
    "meanst = std_pred.mean()\n",
    "print(f\"Gjennomsnittlig standardavvik: {meanst:.2f}\")\n",
    "\n"
   ]
  },
  {
   "cell_type": "markdown",
   "metadata": {},
   "source": [
    "### Residualer (alle reiser og reisevolum under 40000)"
   ]
  },
  {
   "cell_type": "code",
   "execution_count": null,
   "metadata": {},
   "outputs": [],
   "source": [
    "residuals = y_test - y_pred\n",
    "plt.figure(figsize=(10, 5))\n",
    "plt.scatter(y_test, residuals, alpha=0.5)\n",
    "plt.xlabel('Antall reiser (Faktiske verdier)')\n",
    "plt.ylabel('Residual')\n",
    "plt.axhline(y=0, color='black', linewidth=2)\n",
    "plt.title('Residualer mot faktiske verdier')\n",
    "plt.grid(True)\n",
    "plt.show()"
   ]
  },
  {
   "cell_type": "code",
   "execution_count": null,
   "metadata": {},
   "outputs": [],
   "source": [
    "# Beregn residualer\n",
    "residuals = y_test - y_pred\n",
    "\n",
    "# Filtrer der y_test ≤ 40000\n",
    "mask = y_test <= 40000\n",
    "y_test_filtered = y_test[mask]\n",
    "residuals_filtered = residuals[mask]\n",
    "\n",
    "# Plot\n",
    "plt.figure(figsize=(10, 5))\n",
    "plt.scatter(y_test_filtered, residuals_filtered, alpha=0.5)\n",
    "plt.xlabel('Antall reiser (Faktisk verdier)')\n",
    "plt.ylabel('Residual')\n",
    "plt.axhline(y=0, color='black', linewidth=2)\n",
    "plt.title('Residualer mot Faktisk verdi (≤ 40 000)')\n",
    "plt.grid(True)\n",
    "plt.show()\n"
   ]
  },
  {
   "cell_type": "markdown",
   "metadata": {},
   "source": [
    "### SHAP\n",
    "\n"
   ]
  },
  {
   "cell_type": "code",
   "execution_count": null,
   "metadata": {},
   "outputs": [],
   "source": [
    "explainer = shap.TreeExplainer(rf_best, approximate = True)\n",
    "\n",
    "X_sample = X_test[:1000]\n",
    "shap_values_sample = explainer.shap_values(X_sample)"
   ]
  },
  {
   "cell_type": "code",
   "execution_count": null,
   "metadata": {},
   "outputs": [],
   "source": [
    "import matplotlib.pyplot as plt\n",
    "# Velger kun de numeriske feature-navnene\n",
    "numerical_features = ['befolkning', 'to_befolkning','arbeidsplasser', 'handel', 'fri_hen_priv', 'distanse']\n",
    "\n",
    "# Finner indeksene til de numeriske feature-navnene i den opprinnelige listen\n",
    "feature_indices = [i for i, name in enumerate(['fra-sone', 'til-sone', 'tid', 'befolkning', 'to_befolkning', 'arbeidsplasser', 'handel', 'fri_hen_priv', 'distanse']) if name in numerical_features]\n",
    "\n",
    "# Filtrerer SHAP-verdiene for kun de numeriske features\n",
    "shap_values_filtered = shap_values_sample[:, feature_indices]\n",
    "X_filtered = X_sample[:, feature_indices]\n",
    "numerical_features = ['befolkning', 'befolkning i til-sone', 'arbeidsplasser', 'handel', 'fritid', 'distanse']\n",
    "\n",
    "# Lager summary-plot uten de kategoriske variablene\n",
    "shap.summary_plot(shap_values_filtered, X_filtered, max_display=10,\n",
    "                  show=False, feature_names=numerical_features)\n",
    "plt.xlim(-1000, 1000)\n",
    "plt.title('SHAP Summary Plot - RF')\n",
    "plt.show()"
   ]
  },
  {
   "cell_type": "markdown",
   "metadata": {},
   "source": [
    "### Analyse av tid og rom"
   ]
  },
  {
   "cell_type": "code",
   "execution_count": null,
   "metadata": {},
   "outputs": [],
   "source": [
    "# Test modellen på datapunkter med ulike verdier. Soner med få/stor befolning, lang/kort distance, mange/få totale reiser. Evner modellen å predikere bedre for noen datatyper enn andre?\n",
    "\n",
    "# test-data med kun reiser med antall reise < 1000\n",
    "test_data = t_set[t_set['reiser'] < 1000]\n",
    "X_test = test_data[['fra-sone-encoded', 'til-sone-encoded', 'tid-encoded', 'befolkning', 'til_befolkning', 'arbeidsplasser', 'handel', 'fritid', 'distanse']].values\n",
    "y_test = test_data['reiser'].values\n",
    "\n",
    "y_pred = rf_best.predict(X_test)\n",
    "mse = mean_squared_error(y_test, y_pred)\n",
    "mae = mean_absolute_error(y_test, y_pred)\n",
    "r2 = r2_score(y_test, y_pred)\n",
    "\n",
    "print(\"\\nModellens ytelse på testsettet:\")\n",
    "print(f\"Mean Squared Error (MSE): {mse:.2f}\")\n",
    "print(f\"Mean Absolute Error (MAE): {mae:.2f}\")\n",
    "print(f\"R-squared (R2): {r2:.2f}\")\n",
    "\n",
    "errors = abs(y_pred - y_test)\n",
    "\n",
    "mape = 100 * (errors / y_test)\n",
    "\n",
    "median_mape = np.median(mape)\n",
    "print(f\"Median MAPE: {median_mape:.2f}%\")\n",
    "\n",
    "mean_mape = np.mean(mape)\n",
    "print(f\"Mean MAPE: {mean_mape:.2f}%\")\n"
   ]
  },
  {
   "cell_type": "code",
   "execution_count": null,
   "metadata": {},
   "outputs": [],
   "source": [
    "# Test-data med kun reiser med antall reiser < 1000 < 10000\n",
    "test_data = t_set[(t_set['reiser'] < 10000) & (t_set['reiser'] >= 1000)]\n",
    "X_test = test_data[['fra-sone-encoded', 'til-sone-encoded', 'tid-encoded', 'befolkning', 'til_befolkning', 'arbeidsplasser', 'handel', 'fritid', 'distanse']].values\n",
    "y_test = test_data['reiser'].values\n",
    "\n",
    "y_pred = rf_best.predict(X_test)\n",
    "mse = mean_squared_error(y_test, y_pred)\n",
    "mae = mean_absolute_error(y_test, y_pred)\n",
    "r2 = r2_score(y_test, y_pred)\n",
    "\n",
    "print(\"\\nModellens ytelse på testsettet:\")\n",
    "print(f\"Mean Squared Error (MSE): {mse:.2f}\")\n",
    "print(f\"Mean Absolute Error (MAE): {mae:.2f}\")\n",
    "print(f\"R-squared (R2): {r2:.2f}\")\n",
    "errors = abs(y_pred - y_test)\n",
    "\n",
    "mape = 100 * (errors / y_test)\n",
    "\n",
    "median_mape = np.median(mape)\n",
    "print(f\"Median MAPE: {median_mape:.2f}%\")\n",
    "\n",
    "mean_mape = np.mean(mape)\n",
    "print(f\"Mean MAPE: {mean_mape:.2f}%\")"
   ]
  },
  {
   "cell_type": "code",
   "execution_count": null,
   "metadata": {},
   "outputs": [],
   "source": [
    "# test-data med kun reiser med antall reiser > 10000\n",
    "test_data = t_set[t_set['reiser'] >= 10000]\n",
    "X_test = test_data[['fra-sone-encoded', 'til-sone-encoded', 'tid-encoded', 'befolkning', 'til_befolkning','arbeidsplasser', 'handel', 'fritid', 'distanse']].values\n",
    "y_test = test_data['reiser'].values\n",
    "\n",
    "y_pred = rf_best.predict(X_test)\n",
    "mse = mean_squared_error(y_test, y_pred)\n",
    "mae = mean_absolute_error(y_test, y_pred)\n",
    "r2 = r2_score(y_test, y_pred)\n",
    "\n",
    "print(\"\\nModellens ytelse på testsettet:\")\n",
    "print(f\"Mean Squared Error (MSE): {mse:.2f}\")\n",
    "print(f\"Mean Absolute Error (MAE): {mae:.2f}\")\n",
    "print(f\"R-squared (R2): {r2:.2f}\")\n",
    "errors = abs(y_pred - y_test)\n",
    "\n",
    "mape = 100 * (errors / y_test)\n",
    "\n",
    "median_mape = np.median(mape)\n",
    "print(f\"Median MAPE: {median_mape:.2f}%\")\n",
    "\n",
    "mean_mape = np.mean(mape)\n",
    "print(f\"Mean MAPE: {mean_mape:.2f}%\")"
   ]
  },
  {
   "cell_type": "code",
   "execution_count": null,
   "metadata": {},
   "outputs": [],
   "source": [
    "# Test-data med kun punkter der tid = 'UR'\n",
    "test_data = t_set[t_set['tid-encoded'] == 2]\n",
    "X_test = test_data[['fra-sone-encoded', 'til-sone-encoded', 'tid-encoded', 'befolkning', 'til_befolkning', 'arbeidsplasser', 'handel', 'fritid', 'distanse']].values\n",
    "y_test = test_data['reiser'].values\n",
    "\n",
    "y_pred = rf_best.predict(X_test)\n",
    "mse = mean_squared_error(y_test, y_pred)\n",
    "mae = mean_absolute_error(y_test, y_pred)\n",
    "r2 = r2_score(y_test, y_pred)\n",
    "\n",
    "print(\"\\nModellens ytelse på testsettet:\")\n",
    "print(f\"Mean Squared Error (MSE): {mse:.2f}\")\n",
    "print(f\"Mean Absolute Error (MAE): {mae:.2f}\")\n",
    "print(f\"R-squared (R2): {r2:.2f}\")\n",
    "errors = abs(y_pred - y_test)\n",
    "\n",
    "mape = 100 * (errors / y_test)\n",
    "\n",
    "median_mape = np.median(mape)\n",
    "print(f\"Median MAPE: {median_mape:.2f}%\")\n",
    "\n",
    "mean_mape = np.mean(mape)\n",
    "print(f\"Mean MAPE: {mean_mape:.2f}%\")\n",
    "\n"
   ]
  },
  {
   "cell_type": "code",
   "execution_count": null,
   "metadata": {},
   "outputs": [],
   "source": [
    "# Test-data med kun punkter der tid = 'HELG'\n",
    "test_data = t_set[t_set['tid-encoded'] == 0]\n",
    "X_test = test_data[['fra-sone-encoded', 'til-sone-encoded', 'tid-encoded', 'befolkning', 'til_befolkning', 'arbeidsplasser', 'handel', 'fritid', 'distanse']].values\n",
    "y_test = test_data['reiser'].values\n",
    "\n",
    "y_pred = rf_best.predict(X_test)\n",
    "mse = mean_squared_error(y_test, y_pred)\n",
    "mae = mean_absolute_error(y_test, y_pred)\n",
    "r2 = r2_score(y_test, y_pred)\n",
    "\n",
    "print(\"\\nModellens ytelse på testsettet:\")\n",
    "print(f\"Mean Squared Error (MSE): {mse:.2f}\")\n",
    "print(f\"Mean Absolute Error (MAE): {mae:.2f}\")\n",
    "print(f\"R-squared (R2): {r2:.2f}\")\n",
    "errors = abs(y_pred - y_test)\n",
    "\n",
    "mape = 100 * (errors / y_test)\n",
    "\n",
    "median_mape = np.median(mape)\n",
    "print(f\"Median MAPE: {median_mape:.2f}%\")\n",
    "\n",
    "mean_mape = np.mean(mape)\n",
    "print(f\"Mean MAPE: {mean_mape:.2f}%\")"
   ]
  },
  {
   "cell_type": "code",
   "execution_count": null,
   "metadata": {},
   "outputs": [],
   "source": [
    "# Test-data med kun punkter der tid = 'RT'\n",
    "test_data = t_set[t_set['tid-encoded'] == 1]\n",
    "X_test = test_data[['fra-sone-encoded', 'til-sone-encoded', 'tid-encoded', 'befolkning', 'til_befolkning', 'arbeidsplasser', 'handel', 'fritid', 'distanse']].values\n",
    "y_test = test_data['reiser'].values\n",
    "\n",
    "y_pred = rf_best.predict(X_test)\n",
    "mse = mean_squared_error(y_test, y_pred)\n",
    "mae = mean_absolute_error(y_test, y_pred)\n",
    "r2 = r2_score(y_test, y_pred)\n",
    "\n",
    "print(\"\\nModellens ytelse på testsettet:\")\n",
    "print(f\"Mean Squared Error (MSE): {mse:.2f}\")\n",
    "print(f\"Mean Absolute Error (MAE): {mae:.2f}\")\n",
    "print(f\"R-squared (R2): {r2:.2f}\")\n",
    "errors = abs(y_pred - y_test)\n",
    "\n",
    "mape = 100 * (errors / y_test)\n",
    "\n",
    "median_mape = np.median(mape)\n",
    "print(f\"Median MAPE: {median_mape:.2f}%\")\n",
    "\n",
    "mean_mape = np.mean(mape)\n",
    "print(f\"Mean MAPE: {mean_mape:.2f}%\")"
   ]
  },
  {
   "cell_type": "code",
   "execution_count": null,
   "metadata": {},
   "outputs": [],
   "source": [
    "# test_data der befolkning er under 500\n",
    "test_data = t_set[t_set['befolkning'] < 500]\n",
    "X_test = test_data[['fra-sone-encoded', 'til-sone-encoded', 'tid-encoded', 'befolkning', 'til_befolkning', 'arbeidsplasser', 'handel', 'fritid', 'distanse']].values\n",
    "y_test = test_data['reiser'].values\n",
    "\n",
    "y_pred = rf_best.predict(X_test)\n",
    "mse = mean_squared_error(y_test, y_pred)\n",
    "mae = mean_absolute_error(y_test, y_pred)\n",
    "r2 = r2_score(y_test, y_pred)\n",
    "\n",
    "print(\"\\nModellens ytelse på testsettet:\")\n",
    "print(f\"Mean Squared Error (MSE): {mse:.2f}\")\n",
    "print(f\"Mean Absolute Error (MAE): {mae:.2f}\")\n",
    "print(f\"R-squared (R2): {r2:.2f}\")\n",
    "errors = abs(y_pred - y_test)\n",
    "\n",
    "mape = 100 * (errors / y_test)\n",
    "\n",
    "median_mape = np.median(mape)\n",
    "print(f\"Median MAPE: {median_mape:.2f}%\")\n",
    "\n",
    "mean_mape = np.mean(mape)\n",
    "print(f\"Mean MAPE: {mean_mape:.2f}%\")"
   ]
  },
  {
   "cell_type": "code",
   "execution_count": null,
   "metadata": {},
   "outputs": [],
   "source": [
    "#test_data der befokninger er over 500\n",
    "test_data = t_set[t_set['befolkning'] > 500]\n",
    "X_test = test_data[['fra-sone-encoded', 'til-sone-encoded', 'tid-encoded', 'befolkning', 'til_befolkning', 'arbeidsplasser', 'handel', 'fritid', 'distanse']].values\n",
    "y_test = test_data['reiser'].values\n",
    "\n",
    "y_pred = rf_best.predict(X_test)\n",
    "mse = mean_squared_error(y_test, y_pred)\n",
    "mae = mean_absolute_error(y_test, y_pred)\n",
    "r2 = r2_score(y_test, y_pred)\n",
    "\n",
    "print(\"\\nModellens ytelse på testsettet:\")\n",
    "print(f\"Mean Squared Error (MSE): {mse:.2f}\")\n",
    "print(f\"Mean Absolute Error (MAE): {mae:.2f}\")\n",
    "print(f\"R-squared (R2): {r2:.2f}\")\n",
    "\n",
    "errors = abs(y_pred - y_test)\n",
    "\n",
    "mape = 100 * (errors / y_test)\n",
    "\n",
    "median_mape = np.median(mape)\n",
    "print(f\"Median MAPE: {median_mape:.2f}%\")\n",
    "\n",
    "mean_mape = np.mean(mape)\n",
    "print(f\"Mean MAPE: {mean_mape:.2f}%\")"
   ]
  }
 ],
 "metadata": {
  "kernelspec": {
   "display_name": "D2D_pers",
   "language": "python",
   "name": "python3"
  },
  "language_info": {
   "codemirror_mode": {
    "name": "ipython",
    "version": 3
   },
   "file_extension": ".py",
   "mimetype": "text/x-python",
   "name": "python",
   "nbconvert_exporter": "python",
   "pygments_lexer": "ipython3",
   "version": "3.11.11"
  }
 },
 "nbformat": 4,
 "nbformat_minor": 2
}

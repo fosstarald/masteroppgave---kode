{
 "cells": [
  {
   "cell_type": "code",
   "execution_count": 14,
   "metadata": {},
   "outputs": [],
   "source": [
    "import pandas as pd\n",
    "import matplotlib.pyplot as plt\n",
    "import seaborn as sns\n",
    "\n"
   ]
  },
  {
   "cell_type": "markdown",
   "metadata": {},
   "source": [
    "### Last inn data"
   ]
  },
  {
   "cell_type": "code",
   "execution_count": 15,
   "metadata": {},
   "outputs": [],
   "source": [
    "# Last inn data\n",
    "data = pd.read_csv('Data/data_grouped.csv')\n",
    "# lag nye navn fra-sone-6 og til-sone-6 til fra-sone og til-sone\n",
    "data = data.rename(columns={'fra-sone-6': 'fra-sone', 'til-sone-6': 'til-sone', 'fri_hen_priv': 'fritid'})\n",
    "# Lag en hjelpe-tabell med unike soner og befolkning\n",
    "pop_lookup = data[['fra-sone', 'befolkning']].drop_duplicates()\n",
    "pop_lookup.columns = ['sone', 'til_befolkning']\n",
    "\n",
    "# Slå opp befolkning for to_zone basert på from_zone-informasjon\n",
    "df = data.merge(pop_lookup, left_on='til-sone', right_on='sone', how='left')\n",
    "df = df.drop(columns='sone')\n",
    "\n",
    "data = df\n"
   ]
  },
  {
   "cell_type": "code",
   "execution_count": null,
   "metadata": {},
   "outputs": [],
   "source": [
    "# Rader i datasettet\n",
    "antall_rader = len(data)\n",
    "print(f\"Antall rader i datasettet: {antall_rader}\")"
   ]
  },
  {
   "cell_type": "markdown",
   "metadata": {},
   "source": [
    "### Fordelingen til kolonner"
   ]
  },
  {
   "cell_type": "code",
   "execution_count": null,
   "metadata": {},
   "outputs": [],
   "source": [
    "mean_values = data.drop(columns=['tid', 'fra-sone', 'til-sone']).mean()\n",
    "min_values = data.drop(columns=['tid', 'fra-sone', 'til-sone']).min()\n",
    "max_values = data.drop(columns=['tid', 'fra-sone', 'til-sone']).max()\n",
    "\n",
    "print(\"Mean values for all columns:\")\n",
    "print(mean_values)\n",
    "print(\"\\nMin values for all columns:\")\n",
    "print(min_values)\n",
    "print(\"\\nMax values for all columns:\")\n",
    "print(max_values)"
   ]
  },
  {
   "cell_type": "code",
   "execution_count": null,
   "metadata": {},
   "outputs": [],
   "source": [
    "mean_values = data.drop(columns=['tid', 'fra-sone', 'til-sone']).mean()\n",
    "std_values = data.drop(columns=['tid', 'fra-sone', 'til-sone']).std()\n",
    "median_values = data.drop(columns=['tid', 'fra-sone', 'til-sone']).median()\n",
    "\n",
    "print(\"Mean values for all columns:\")\n",
    "print(mean_values)\n",
    "print(\"\\nStandard deviation for all columns:\")\n",
    "print(std_values)\n",
    "print(\"\\nMedian values for all columns:\")\n",
    "print(median_values)"
   ]
  },
  {
   "cell_type": "code",
   "execution_count": null,
   "metadata": {},
   "outputs": [],
   "source": [
    "\n",
    "# Filtrer ut kolonnene som ikke skal inkluderes\n",
    "kolonner_utelatt = ['fra-sone', 'til-sone', 'tid']\n",
    "numeriske_kolonner = [col for col in data.columns if col not in kolonner_utelatt]\n",
    "\n",
    "# Lag violin-plott for de gjenværende variablene\n",
    "fig, axes = plt.subplots(nrows=len(numeriske_kolonner), ncols=1, figsize=(10, 3 * len(numeriske_kolonner)))\n",
    "\n",
    "for i, col in enumerate(numeriske_kolonner):\n",
    "    sns.violinplot(x=data[col], ax=axes[i], linewidth=1)\n",
    "    axes[i].set_title(f\"Fordeling av {col}\")\n",
    "    axes[i].set_xlabel(\"Verdi\")\n",
    "\n",
    "plt.tight_layout()\n",
    "plt.show()"
   ]
  },
  {
   "cell_type": "markdown",
   "metadata": {},
   "source": [
    "### Forhold mellom kolonner"
   ]
  },
  {
   "cell_type": "code",
   "execution_count": null,
   "metadata": {},
   "outputs": [],
   "source": [
    "# Velg de spesifikke kolonnene\n",
    "columns = ['reiser', 'befolkning', 'distanse', 'arbeidsplasser', 'handel', 'fritid', 'til_befolkning']\n",
    "selected_data = data[columns]\n",
    "\n",
    "# Beregn korrelasjonsmatrisen\n",
    "correlation_matrix = selected_data.corr()\n",
    "\n",
    "# Vis korrelasjonsmatrisen som en heatmap\n",
    "plt.figure(figsize=(10, 8))\n",
    "sns.heatmap(correlation_matrix, annot=True, cmap='coolwarm', fmt=\".2f\")\n",
    "plt.title('Korrelasjonsmatrise')\n",
    "plt.show()"
   ]
  },
  {
   "cell_type": "markdown",
   "metadata": {},
   "source": [
    "### Scatterplot"
   ]
  },
  {
   "cell_type": "code",
   "execution_count": null,
   "metadata": {},
   "outputs": [],
   "source": [
    "sns.scatterplot(x=data[\"arbeidsplasser\"], y=data[\"reiser\"])\n",
    "plt.title(\"Sammenheng mellom arbeidsplasser og reisevolum\")\n",
    "plt.xlabel(\"Arbeidsplasser\")\n",
    "plt.ylabel(\"Antall reiser\")\n",
    "plt.show()\n",
    "\n",
    "sns.scatterplot(x=data[\"befolkning\"], y=data[\"reiser\"])\n",
    "plt.title(\"Sammenheng mellom arbeidsplasser og reisevolum\")\n",
    "plt.xlabel(\"Arbeidsplasser\")\n",
    "plt.ylabel(\"Antall reiser\")\n",
    "plt.show()\n",
    "\n",
    "sns.scatterplot(x=data[\"distanse\"], y=data[\"reiser\"])\n",
    "plt.title(\"Sammenheng mellom arbeidsplasser og reisevolum\")\n",
    "plt.xlabel(\"Arbeidsplasser\")\n",
    "plt.ylabel(\"Antall reiser\")\n",
    "plt.show()\n"
   ]
  },
  {
   "cell_type": "markdown",
   "metadata": {},
   "source": [
    "### Fordelingen til reiser"
   ]
  },
  {
   "cell_type": "code",
   "execution_count": null,
   "metadata": {},
   "outputs": [],
   "source": [
    "# Finn antallet rader der reiser er mindre enn 10\n",
    "\n",
    "d = data[data['reiser'] < 10].shape[0]\n",
    "print(d)\n",
    "# mer enn 10, men mindre enn 100\n",
    "d = data[(data['reiser'] > 10) & (data['reiser'] < 100)].shape[0]\n",
    "print(d)\n",
    "# mer enn 100, men mindre enn 1000\n",
    "d = data[(data['reiser'] > 100) & (data['reiser'] < 1000)].shape[0]\n",
    "print(d)\n",
    "# mer enn 1000\n",
    "d = data[data['reiser'] > 1000].shape[0]\n",
    "print(d)\n",
    "\n",
    "# Summer opp toalt antall reiser for alle ruter der reiser er mindre enn 10\n",
    "d = data[data['reiser'] < 10]['reiser'].sum()\n",
    "print(d)\n",
    "# summer opp totalt antall reiser for alle ruter der reiser er mer enn 10, men mindre enn 100\n",
    "d = data[(data['reiser'] > 10) & (data['reiser'] < 100)]['reiser'].sum()\n",
    "print(d)\n",
    "# summer opp totalt antall reiser for alle ruter der reiser er mer enn 100, men mindre nn 1000\n",
    "d = data[(data['reiser'] > 100) & (data['reiser'] < 1000)]['reiser'].sum()\n",
    "print(d)\n",
    "# summer opp totalt antall reiser for alle ruter der reiser er mer enn 1000\n",
    "d = data[data['reiser'] > 1000]['reiser'].sum()\n",
    "print(d)"
   ]
  },
  {
   "cell_type": "code",
   "execution_count": null,
   "metadata": {},
   "outputs": [],
   "source": [
    "# Data\n",
    "labels = ['[0,10]', '[10, 100]', '[100,1000]', '[1000, - ]']\n",
    "sonepar = [89138, 180381, 87084, 12829]\n",
    "reiser = [583087, 6594549, 26354507, 45754061]\n",
    "\n",
    "# Plot\n",
    "fig, axs = plt.subplots(1, 2, figsize=(12, 6))\n",
    "\n",
    "# Sirkeldiagram 1: Antall sone-par\n",
    "axs[0].pie(sonepar, labels=labels, autopct='%1.1f%%', startangle=90)\n",
    "axs[0].set_title('Rader i datasettet fordelt på ulike reisevolum')\n",
    "\n",
    "# Sirkeldiagram 2: Antall reiser\n",
    "axs[1].pie(reiser, labels=labels, autopct='%1.1f%%', startangle=90)\n",
    "axs[1].set_title('Totale antall reiser fordelt på reisevolum')\n",
    "\n",
    "plt.tight_layout()\n",
    "plt.show()"
   ]
  },
  {
   "cell_type": "code",
   "execution_count": null,
   "metadata": {},
   "outputs": [],
   "source": []
  }
 ],
 "metadata": {
  "kernelspec": {
   "display_name": "D2D_env",
   "language": "python",
   "name": "python3"
  },
  "language_info": {
   "codemirror_mode": {
    "name": "ipython",
    "version": 3
   },
   "file_extension": ".py",
   "mimetype": "text/x-python",
   "name": "python",
   "nbconvert_exporter": "python",
   "pygments_lexer": "ipython3",
   "version": "3.11.11"
  }
 },
 "nbformat": 4,
 "nbformat_minor": 2
}
